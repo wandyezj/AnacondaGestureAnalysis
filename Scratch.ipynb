{
 "cells": [
  {
   "cell_type": "code",
   "execution_count": null,
   "metadata": {},
   "outputs": [],
   "source": [
    "\n",
    "\n",
    "import matplotlib \n",
    "matplotlib.rc('xtick', labelsize=5) \n",
    "matplotlib.rc('ytick', labelsize=8) \n",
    "\n",
    "\n",
    "import numpy as np\n",
    "import matplotlib.pyplot as plt\n",
    "\n",
    "x = trials\n",
    "y = distances\n",
    "labels = trial_labels\n",
    "# x y x m distances\n",
    "colors = ['red', 'green', 'blue', 'black']\n",
    "area = 20\n",
    "\n",
    "\n",
    "\n",
    "plt.ylabel('Distance', labelpad=50, rotation=0)\n",
    "plt.xlabel('Set', labelpad=50, rotation=0)\n",
    "\n",
    "plt.xticks(x, labels, rotation='vertical')\n",
    "\n",
    "#import matplotlib.figure as fig\n",
    "#fig.Figure(figsize=(10,20))\n",
    "\n",
    "plt.scatter(x, y, s=area, c=colors, alpha=0.4)"
   ]
  },
  {
   "cell_type": "code",
   "execution_count": null,
   "metadata": {},
   "outputs": [],
   "source": [
    "# https://pypi.python.org/pypi/fastdtw\n",
    "\n",
    "import numpy as np\n",
    "from scipy.spatial.distance import euclidean\n",
    "\n",
    "from fastdtw import fastdtw\n",
    "\n",
    "x = np.array([[1,1], [2,2], [3,3], [4,4], [5,5]])\n",
    "y = np.array([[2,2], [3,3], [4,4]])\n",
    "distance, path = fastdtw(x, y, dist=euclidean)\n",
    "print(distance)"
   ]
  },
  {
   "cell_type": "code",
   "execution_count": null,
   "metadata": {},
   "outputs": [],
   "source": [
    "# https://matplotlib.org/examples/shapes_and_collections/scatter_demo.html\n",
    "import numpy as np\n",
    "import matplotlib.pyplot as plt\n",
    "\n",
    "\n",
    "N = 5\n",
    "x = [0,  1, 2, 3, 4, 5, 6, 7, 8, 9, 10]\n",
    "y = [0,  1, 2, 3, 4, 5, 6, 7, 8, 9, 10]\n",
    "colors = ['red', 'green', 'blue', 'black']\n",
    "area = 10\n",
    "\n",
    "labels = gestureNamesSorted\n",
    "\n",
    "plt.ylabel('Distance', labelpad=50, rotation=0)\n",
    "plt.xlabel('Set',labelpad=50, rotation=0)\n",
    "\n",
    "plt.xticks(x, labels, rotation='vertical')\n",
    "\n",
    "\n",
    "plt.scatter(x, y, s=area, c=colors, alpha=0.5)"
   ]
  },
  {
   "cell_type": "code",
   "execution_count": null,
   "metadata": {},
   "outputs": [],
   "source": [
    "# Testing to see if the numpy 'where' method supports string matching\n",
    "a = np.array(['apple', 'orange', 'apple', 'banana'])\n",
    "\n",
    "indicesWhereThereAreApples = np.where(a == 'apple')\n",
    "\n",
    "print (indicesWhereThereAreApples)\n",
    "print (a[indicesWhereThereAreApples])"
   ]
  },
  {
   "cell_type": "code",
   "execution_count": null,
   "metadata": {},
   "outputs": [],
   "source": [
    "# Playing around with classes in Python 3. Notice how just like in Javascript, you can add a new member variable\n",
    "# just by starting to use it!\n",
    "\n",
    "class DummyClass:\n",
    "    def __init__(self, variable):\n",
    "        self.testVar = variable\n",
    "        \n",
    "\n",
    "dummy = DummyClass(5)\n",
    "print(dummy.testVar)\n",
    "dummy.newVar = 7 # added a new member variable called newVar here. Cool!\n",
    "print(dummy.newVar)\n",
    "vars(dummy) # prints out the member variables of the class"
   ]
  },
  {
   "cell_type": "code",
   "execution_count": null,
   "metadata": {},
   "outputs": [],
   "source": [
    "# Experimenting with how folding and unfolding tuples work\n",
    "testTuple = (1,2,3,4,5,6,7,8,9,10)\n",
    "print(testTuple)\n",
    "print(*testTuple)\n",
    "print(*testTuple[5:])"
   ]
  },
  {
   "cell_type": "code",
   "execution_count": null,
   "metadata": {},
   "outputs": [],
   "source": [
    "# Experimenting with how we delete things out of lists\n",
    "import random\n",
    "testDict = {\"a\":1, \"c\":3, \"d\":4}\n",
    "a = list(testDict.keys())\n",
    "print(a)\n",
    "random.shuffle(a)\n",
    "print(a)\n",
    "del a[1]\n",
    "print(a)"
   ]
  },
  {
   "cell_type": "code",
   "execution_count": null,
   "metadata": {},
   "outputs": [],
   "source": [
    "# Playing around with how we can split up and combine lists in Python\n",
    "testList = [1, 2, 3, 4, 5]\n",
    "index = 4\n",
    "print(testList[0:index] + testList[index + 1:5])\n",
    "\n",
    "index = 3\n",
    "print(testList[0:index] + testList[index + 1:5])\n",
    "\n",
    "print(testList[index:])\n",
    "print(testList[:index])"
   ]
  },
  {
   "cell_type": "code",
   "execution_count": null,
   "metadata": {},
   "outputs": [],
   "source": [
    "# playing around with numpy subtraction. In order for these operations to work\n",
    "# the arrays must be of the same size\n",
    "np1 = np.array([1, 2, 3, 4, 5])\n",
    "np2 = np.array([1, 2, 4, 5, 5])\n",
    "np2 - np1\n",
    "\n",
    "np3 = [1, 2, 3]\n",
    "\n",
    "# the (0,2) value tells pad to pad 0 times in the front of array\n",
    "# and three times to the end of array. See: https://docs.scipy.org/doc/numpy/reference/generated/numpy.pad.html\n",
    "np3_resized = np.pad(np3, (0, 2), 'constant', constant_values=0)\n",
    "np3_resized - np2"
   ]
  },
  {
   "cell_type": "code",
   "execution_count": null,
   "metadata": {},
   "outputs": [],
   "source": [
    "# Find Euclidean distance between two numpy vector arrays\n",
    "np1 = np.array([1, 2, 3, 4, 5])\n",
    "np2 = np.array([5, 4, 3, 2, 1])\n",
    "\n",
    "# First, we'll try numpy's way of determining Euclidean distance\n",
    "# See: https://stackoverflow.com/a/1401828\n",
    "npDist = np.linalg.norm(np2 - np1)\n",
    "print(npDist)\n",
    "\n",
    "# Next, we'll try scipy's way\n",
    "# See: https://stackoverflow.com/a/21986532\n",
    "from scipy.spatial import distance\n",
    "\n",
    "scipyDist = distance.euclidean(np2,np1)\n",
    "print(scipyDist)"
   ]
  },
  {
   "cell_type": "code",
   "execution_count": null,
   "metadata": {},
   "outputs": [],
   "source": [
    "# detrend playground\n",
    "from scipy import signal\n",
    "a = np.random.rand(50) * 50\n",
    "print(a)\n",
    "b = np.array(range(0,50))\n",
    "c = a + b\n",
    "\n",
    "fig, axes = plt.subplots()\n",
    "# axes.plot(a)\n",
    "# axes.plot(b)\n",
    "axes.plot(c, label=\"c (avg={:0.1f})\".format(np.mean(c)))\n",
    "c_detrended = signal.detrend(c)\n",
    "axes.plot(c_detrended, label=\"c_detrended (avg={:0.1f})\".format(np.mean(c_detrended)))\n",
    "axes.legend()\n"
   ]
  },
  {
   "cell_type": "code",
   "execution_count": null,
   "metadata": {},
   "outputs": [],
   "source": [
    "import matplotlib.pyplot as plt\n",
    "\n",
    "fig, axes = plt.subplots(figsize=(10, 20))\n",
    "\n",
    "x = trials\n",
    "y = distances\n",
    "\n",
    "# x y x m distances\n",
    "colors = ['red', 'green', 'blue', 'black']\n",
    "area = 20\n",
    "\n",
    "axes.set_title(\"title\")\n",
    "axes.set_xticks(tick_indices)\n",
    "axes.set_xticklabels(tick_labels, fontdict={'fontsize':10,  'verticalalignment': 'baseline', 'rotation':90})\n",
    "axes.set(xlabel=\"Sets\")\n",
    "\n",
    "axes.vlines(tick_indices, 0, 6000)\n",
    "axes.scatter(x, y, s=area, c=colors, alpha=0.4)\n"
   ]
  },
  {
   "cell_type": "code",
   "execution_count": null,
   "metadata": {},
   "outputs": [],
   "source": [
    "\n",
    "    \n",
    "    \n",
    "select_gesture_name = gesture_names[1]\n",
    "select_gesture_index = 0\n",
    "\n",
    "#compare_gesture_name = gesture_names[0]\n",
    "#compare_gesture_index = 1\n",
    "#sx = score_compare_gesture_trial(gesture_trials_map, select_gesture_name, select_gesture_index, compare_gesture_name, compare_gesture_index)\n",
    "#print(sx)\n",
    "\n",
    "\n",
    "\n",
    "# Create a chart that compares with all the other\n",
    "\n",
    "distances = score_trial(gesture_trials_map, gesture_names, select_gesture_name, select_gesture_index)\n",
    "print(\"Complete\")\n"
   ]
  },
  {
   "cell_type": "code",
   "execution_count": null,
   "metadata": {},
   "outputs": [],
   "source": [
    "# print out for debugging\n",
    "print(\"\\nDistances:\")\n",
    "print(distances)\n",
    "\n",
    "print(\"\\nTrials:\")\n",
    "print(trials)\n",
    "\n",
    "print(\"\\nLabels:\")\n",
    "print(trial_labels)\n",
    "\n",
    "print(\"\\nTick Indices:\")\n",
    "print(tick_indices)\n",
    "\n",
    "print(\"\\nTick Labels:\")\n",
    "print(tick_labels)\n",
    "\n",
    "\n",
    "x = trials\n",
    "y = distances\n",
    "l = trial_labels\n",
    "print(\"x, \")\n",
    "for i in range(len(x)):\n",
    "    print(x[i], y[i])"
   ]
  },
  {
   "cell_type": "code",
   "execution_count": 1,
   "metadata": {},
   "outputs": [
    {
     "name": "stdout",
     "output_type": "stream",
     "text": [
      "[1, 2, 3, 1, 2, 3]\n"
     ]
    }
   ],
   "source": [
    "a = [1,2,3]\n",
    "a += [1,2,3]\n",
    "print(a)"
   ]
  },
  {
   "cell_type": "code",
   "execution_count": 3,
   "metadata": {},
   "outputs": [
    {
     "name": "stdout",
     "output_type": "stream",
     "text": [
      "Confusion matrix, without normalization\n",
      "[[2 0 0]\n",
      " [0 1 1]\n",
      " [1 0 2]]\n",
      "Normalized confusion matrix\n",
      "[[1.         0.         0.        ]\n",
      " [0.         0.5        0.5       ]\n",
      " [0.33333333 0.         0.66666667]]\n"
     ]
    },
    {
     "data": {
      "image/png": "[encoded data removed]",
      "text/plain": [
       "<matplotlib.figure.Figure at 0x1f7428dc780>"
      ]
     },
     "metadata": {},
     "output_type": "display_data"
    },
    {
     "data": {
      "image/png": "[encoded data removed]",
      "text/plain": [
       "<matplotlib.figure.Figure at 0x1f7428dc208>"
      ]
     },
     "metadata": {},
     "output_type": "display_data"
    }
   ],
   "source": [
    "# Playing around with plotting confusion matrices\n",
    "# From: http://scikit-learn.org/stable/auto_examples/model_selection/plot_confusion_matrix.html#sphx-glr-auto-examples-model-selection-plot-confusion-matrix-py\n",
    "import itertools\n",
    "import numpy as np\n",
    "import matplotlib.pyplot as plt\n",
    "from sklearn.metrics import confusion_matrix\n",
    "\n",
    "def plot_confusion_matrix(cm, classes,\n",
    "                          normalize=False,\n",
    "                          title='Confusion matrix',\n",
    "                          cmap=plt.cm.Blues):\n",
    "    \"\"\"\n",
    "    This function prints and plots the confusion matrix.\n",
    "    Normalization can be applied by setting `normalize=True`.\n",
    "    \"\"\"\n",
    "    if normalize:\n",
    "        cm = cm.astype('float') / cm.sum(axis=1)[:, np.newaxis]\n",
    "        print(\"Normalized confusion matrix\")\n",
    "    else:\n",
    "        print('Confusion matrix, without normalization')\n",
    "\n",
    "    print(cm)\n",
    "\n",
    "    plt.imshow(cm, interpolation='nearest', cmap=cmap)\n",
    "    plt.title(title)\n",
    "    plt.colorbar()\n",
    "    tick_marks = np.arange(len(classes))\n",
    "    plt.xticks(tick_marks, classes, rotation=90)\n",
    "    plt.yticks(tick_marks, classes)\n",
    "\n",
    "    fmt = '.2f' if normalize else 'd'\n",
    "    thresh = cm.max() / 2.\n",
    "    for i, j in itertools.product(range(cm.shape[0]), range(cm.shape[1])):\n",
    "        plt.text(j, i, format(cm[i, j], fmt),\n",
    "                 horizontalalignment=\"center\",\n",
    "                 color=\"white\" if cm[i, j] > thresh else \"black\")\n",
    "\n",
    "    plt.tight_layout()\n",
    "    plt.ylabel('True label')\n",
    "    plt.xlabel('Predicted label')\n",
    "    \n",
    "y_true = [\"cat\", \"ant\", \"cat\", \"cat\", \"ant\", \"bird\", \"bird\"]\n",
    "y_pred = [\"ant\", \"ant\", \"cat\", \"cat\", \"ant\", \"cat\", \"bird\"]\n",
    "labels=[\"ant\", \"bird\", \"cat\"]\n",
    "cm = confusion_matrix(y_true, y_pred, labels)\n",
    "plt.figure()\n",
    "plot_confusion_matrix(cm, classes=labels,\n",
    "                      title='Confusion matrix (without normalization)')\n",
    "\n",
    "plt.figure()\n",
    "plot_confusion_matrix(cm, classes=labels, normalize=True,\n",
    "                      title='Confusion matrix (with normalization)')\n",
    "plt.show()"
   ]
  },
  {
   "cell_type": "code",
   "execution_count": null,
   "metadata": {},
   "outputs": [],
   "source": []
  }
 ],
 "metadata": {
  "kernelspec": {
   "display_name": "Python 3",
   "language": "python",
   "name": "python3"
  },
  "language_info": {
   "codemirror_mode": {
    "name": "ipython",
    "version": 3
   },
   "file_extension": ".py",
   "mimetype": "text/x-python",
   "name": "python",
   "nbconvert_exporter": "python",
   "pygments_lexer": "ipython3",
   "version": "3.6.4"
  }
 },
 "nbformat": 4,
 "nbformat_minor": 2
}
